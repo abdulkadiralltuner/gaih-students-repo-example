{
 "cells": [
  {
   "cell_type": "code",
   "execution_count": 30,
   "metadata": {},
   "outputs": [
    {
     "name": "stdout",
     "output_type": "stream",
     "text": [
      "61 71 83 \n",
      "\n",
      "53 43 29 \n",
      "\n",
      "7 89 61 \n",
      "\n"
     ]
    }
   ],
   "source": [
    "import random\n",
    "import time\n",
    "random.seed()\n",
    "randoms=[]\n",
    "say=0\n",
    "i=0\n",
    "\n",
    "\n",
    "while i<9:\n",
    "    durum=False \n",
    "    randoms.append(random.randint(0,100))\n",
    "    for a in range(2,randoms[i]):\n",
    "        if((randoms[i]%a)==0):\n",
    "            say=say+1\n",
    "            durum=True \n",
    "            \n",
    "            \n",
    "        \n",
    "        \n",
    "    i=i+1\n",
    "    if(durum):\n",
    "        i=i-1\n",
    "       \n",
    "        randoms.pop() \n",
    "kontrol=1\n",
    "for x in randoms:\n",
    "    print(x,end=\" \")\n",
    "    if(kontrol%3==0):\n",
    "        print(\"\\n\")\n",
    "    kontrol=kontrol+1"
   ]
  },
  {
   "cell_type": "code",
   "execution_count": null,
   "metadata": {},
   "outputs": [],
   "source": []
  },
  {
   "cell_type": "code",
   "execution_count": null,
   "metadata": {},
   "outputs": [],
   "source": []
  }
 ],
 "metadata": {
  "kernelspec": {
   "display_name": "Python 3",
   "language": "python",
   "name": "python3"
  },
  "language_info": {
   "codemirror_mode": {
    "name": "ipython",
    "version": 3
   },
   "file_extension": ".py",
   "mimetype": "text/x-python",
   "name": "python",
   "nbconvert_exporter": "python",
   "pygments_lexer": "ipython3",
   "version": "3.8.5"
  }
 },
 "nbformat": 4,
 "nbformat_minor": 4
}
